{
  "nbformat": 4,
  "nbformat_minor": 5,
  "metadata": {
    "colab": {
      "name": "EasyVisa_Project_Template_Notebook.ipynb",
      "provenance": [],
      "collapsed_sections": []
    },
    "kernelspec": {
      "display_name": "Python 3",
      "language": "python",
      "name": "python3"
    },
    "language_info": {
      "codemirror_mode": {
        "name": "ipython",
        "version": 3
      },
      "file_extension": ".py",
      "mimetype": "text/x-python",
      "name": "python",
      "nbconvert_exporter": "python",
      "pygments_lexer": "ipython3",
      "version": "3.8.5"
    }
  },
  "cells": [
    {
      "cell_type": "markdown",
      "metadata": {
        "id": "AT5OogJVFbwu"
      },
      "source": [
        "# EasyVisa Project\n",
        "\n",
        "## Context:\n",
        "\n",
        "Business communities in the United States are facing high demand for human resources, but one of the constant challenges is identifying and attracting the right talent, which is perhaps the most important element in remaining competitive. Companies in the United States look for hard-working, talented, and qualified individuals both locally as well as abroad.\n",
        "\n",
        "The Immigration and Nationality Act (INA) of the US permits foreign workers to come to the United States to work on either a temporary or permanent basis. The act also protects US workers against adverse impacts on their wages or working conditions by ensuring US employers' compliance with statutory requirements when they hire foreign workers to fill workforce shortages. The immigration programs are administered by the Office of Foreign Labor Certification (OFLC).\n",
        "\n",
        "OFLC processes job certification applications for employers seeking to bring foreign workers into the United States and grants certifications in those cases where employers can demonstrate that there are not sufficient US workers available to perform the work at wages that meet or exceed the wage paid for the occupation in the area of intended employment.\n",
        "\n",
        "## Objective:\n",
        "\n",
        "In FY 2016, the OFLC processed 775,979 employer applications for 1,699,957 positions for temporary and permanent labor certifications. This was a nine percent increase in the overall number of processed applications from the previous year. The process of reviewing every case is becoming a tedious task as the number of applicants is increasing every year.\n",
        "\n",
        "The increasing number of applicants every year calls for a Machine Learning based solution that can help in shortlisting the candidates having higher chances of VISA approval. OFLC has hired your firm EasyVisa for data-driven solutions. You as a data scientist have to analyze the data provided and, with the help of a classification model:\n",
        "\n",
        "* Facilitate the process of visa approvals.\n",
        "* Recommend a suitable profile for the applicants for whom the visa should be certified or denied based on the drivers that significantly influence the case status. \n",
        "\n",
        "\n",
        "## Data Description\n",
        "\n",
        "The data contains the different attributes of the employee and the employer. The detailed data dictionary is given below.\n",
        "\n",
        "* case_id: ID of each visa application\n",
        "* continent: Information of continent the employee\n",
        "* education_of_employee: Information of education of the employee\n",
        "* has_job_experience: Does the employee has any job experience? Y= Yes; N = No\n",
        "* requires_job_training: Does the employee require any job training? Y = Yes; N = No \n",
        "* no_of_employees: Number of employees in the employer's company\n",
        "* yr_of_estab: Year in which the employer's company was established\n",
        "* region_of_employment: Information of foreign worker's intended region of employment in the US.\n",
        "* prevailing_wage:  Average wage paid to similarly employed workers in a specific occupation in the area of intended employment. The purpose of the prevailing wage is to ensure that the foreign worker is not underpaid compared to other workers offering the same or similar service in the same area of employment. \n",
        "* unit_of_wage: Unit of prevailing wage. Values include Hourly, Weekly, Monthly, and Yearly.\n",
        "* full_time_position: Is the position of work full-time? Y = Full Time Position; N = Part Time Position\n",
        "* case_status:  Flag indicating if the Visa was certified or denied"
      ],
      "id": "AT5OogJVFbwu"
    },
    {
      "cell_type": "markdown",
      "metadata": {
        "id": "dirty-island"
      },
      "source": [
        "## Importing necessary libraries and data"
      ],
      "id": "dirty-island"
    },
    {
      "cell_type": "code",
      "metadata": {
        "id": "statewide-still"
      },
      "source": [
        ""
      ],
      "id": "statewide-still",
      "execution_count": null,
      "outputs": []
    },
    {
      "cell_type": "markdown",
      "metadata": {
        "id": "desperate-infection"
      },
      "source": [
        "## Data Overview\n",
        "\n",
        "- Observations\n",
        "- Sanity checks"
      ],
      "id": "desperate-infection"
    },
    {
      "cell_type": "code",
      "metadata": {
        "id": "persistent-juice"
      },
      "source": [
        ""
      ],
      "id": "persistent-juice",
      "execution_count": null,
      "outputs": []
    },
    {
      "cell_type": "markdown",
      "metadata": {
        "id": "seasonal-calibration"
      },
      "source": [
        "## Exploratory Data Analysis (EDA)\n",
        "\n",
        "- EDA is an important part of any project involving data.\n",
        "- It is important to investigate and understand the data better before building a model with it.\n",
        "- A few questions have been mentioned below which will help you approach the analysis in the right manner and generate insights from the data.\n",
        "- A thorough analysis of the data, in addition to the questions mentioned below, should be done."
      ],
      "id": "seasonal-calibration"
    },
    {
      "cell_type": "code",
      "metadata": {
        "id": "right-permit"
      },
      "source": [
        ""
      ],
      "id": "right-permit",
      "execution_count": null,
      "outputs": []
    },
    {
      "cell_type": "markdown",
      "metadata": {
        "id": "classified-traveler"
      },
      "source": [
        "**Questions**:\n",
        "1. Those with higher education may want to travel abroad for a well-paid job. Does education play a role in Visa certification? \n",
        "\n",
        "2. How does the visa status vary across different continents? \n",
        " \n",
        "3. Experienced professionals might look abroad for opportunities to improve their lifestyles and career development. Does work experience influence visa status? \n",
        " \n",
        "4. In the United States, employees are paid at different intervals. Which pay unit is most likely to be certified for a visa? \n",
        " \n",
        "5. The US government has established a prevailing wage to protect local talent and foreign workers. How does the visa status change with the prevailing wage?"
      ],
      "id": "classified-traveler"
    },
    {
      "cell_type": "code",
      "metadata": {
        "id": "mechanical-interference"
      },
      "source": [
        ""
      ],
      "id": "mechanical-interference",
      "execution_count": null,
      "outputs": []
    },
    {
      "cell_type": "markdown",
      "metadata": {
        "id": "alleged-spirituality"
      },
      "source": [
        "## Data Preprocessing\n",
        "\n",
        "- Missing value treatment (if needed)\n",
        "- Feature engineering \n",
        "- Outlier detection and treatment (if needed)\n",
        "- Preparing data for modeling \n",
        "- Any other preprocessing steps (if needed)"
      ],
      "id": "alleged-spirituality"
    },
    {
      "cell_type": "code",
      "metadata": {
        "id": "increasing-louisiana"
      },
      "source": [
        ""
      ],
      "id": "increasing-louisiana",
      "execution_count": null,
      "outputs": []
    },
    {
      "cell_type": "markdown",
      "metadata": {
        "id": "difficult-union"
      },
      "source": [
        "## EDA\n",
        "\n",
        "- It is a good idea to explore the data once again after manipulating it."
      ],
      "id": "difficult-union"
    },
    {
      "cell_type": "code",
      "metadata": {
        "id": "interested-talent"
      },
      "source": [
        ""
      ],
      "id": "interested-talent",
      "execution_count": null,
      "outputs": []
    },
    {
      "cell_type": "markdown",
      "metadata": {
        "id": "domestic-iceland"
      },
      "source": [
        "## Building bagging and boosting models"
      ],
      "id": "domestic-iceland"
    },
    {
      "cell_type": "code",
      "metadata": {
        "id": "unknown-institution"
      },
      "source": [
        ""
      ],
      "id": "unknown-institution",
      "execution_count": null,
      "outputs": []
    },
    {
      "cell_type": "markdown",
      "metadata": {
        "id": "prime-athletics"
      },
      "source": [
        "##  Will tuning the hyperparameters improve the model performance?"
      ],
      "id": "prime-athletics"
    },
    {
      "cell_type": "code",
      "metadata": {
        "id": "banned-difficulty"
      },
      "source": [
        ""
      ],
      "id": "banned-difficulty",
      "execution_count": null,
      "outputs": []
    },
    {
      "cell_type": "markdown",
      "metadata": {
        "id": "obvious-maine"
      },
      "source": [
        "## Model Performance Comparison and Conclusions"
      ],
      "id": "obvious-maine"
    },
    {
      "cell_type": "code",
      "metadata": {
        "id": "everyday-kinase"
      },
      "source": [
        ""
      ],
      "id": "everyday-kinase",
      "execution_count": null,
      "outputs": []
    },
    {
      "cell_type": "markdown",
      "metadata": {
        "id": "nasty-retailer"
      },
      "source": [
        "## Actionable Insights and Recommendations"
      ],
      "id": "nasty-retailer"
    },
    {
      "cell_type": "code",
      "metadata": {
        "id": "amino-prediction"
      },
      "source": [
        ""
      ],
      "id": "amino-prediction",
      "execution_count": null,
      "outputs": []
    }
  ]
}